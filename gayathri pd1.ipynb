{
 "cells": [
  {
   "cell_type": "code",
   "execution_count": 2,
   "id": "20d3e954",
   "metadata": {},
   "outputs": [
    {
     "name": "stdout",
     "output_type": "stream",
     "text": [
      "Empty DataFrame\n",
      "Columns: []\n",
      "Index: []\n"
     ]
    }
   ],
   "source": [
    "import pandas as pd\n",
    "df=pd.DataFrame()\n",
    "print(df)"
   ]
  },
  {
   "cell_type": "code",
   "execution_count": 10,
   "id": "33e4bcf6",
   "metadata": {},
   "outputs": [
    {
     "name": "stdout",
     "output_type": "stream",
     "text": [
      "\n",
      " Series to DataFrame:\n",
      "\n",
      "         Emp  Id\n",
      "0    Darshan  80\n",
      "1     Sudeep  90\n",
      "2       Siva  28\n",
      "3       Yash  57\n",
      "4  Keerthana  49\n"
     ]
    }
   ],
   "source": [
    "import pandas as pd\n",
    "emp=pd.Series(['Darshan','Sudeep','Siva','Yash','Keerthana'])\n",
    "id=pd.Series([80,90,28,57,49])\n",
    "frame={'Emp':emp,'Id':id}\n",
    "result=pd.DataFrame(frame)\n",
    "print(\"\\n Series to DataFrame:\\n\")\n",
    "print(result)\n",
    "\n"
   ]
  },
  {
   "cell_type": "code",
   "execution_count": 19,
   "id": "e912471e",
   "metadata": {},
   "outputs": [
    {
     "name": "stdout",
     "output_type": "stream",
     "text": [
      "\n",
      " Extracting One Column:\n",
      "\n",
      "0      Darshan\n",
      "1       Sudeep\n",
      "2         Siva\n",
      "3         Yash\n",
      "4    Keerthana\n",
      "Name: Emp, dtype: object\n",
      "\n",
      " Adding new columns:\n",
      "\n",
      "         Emp  Id  ID  Age\n",
      "0    Darshan  80  80   28\n",
      "1     Sudeep  90  90   32\n",
      "2       Siva  28  28   47\n",
      "3       Yash  57  56   52\n",
      "4  Keerthana  49  70   61\n"
     ]
    }
   ],
   "source": [
    "print(\"\\n Extracting One Column:\\n\")\n",
    "print(result['Emp'])\n",
    "print(\"\\n Adding new columns:\\n\")\n",
    "result['ID']=pd.Series([80,90,28,56,70])\n",
    "result['Age']=pd.Series([28,32,47,52,61])\n",
    "print(result)\n"
   ]
  },
  {
   "cell_type": "code",
   "execution_count": 20,
   "id": "1a8020bd",
   "metadata": {},
   "outputs": [
    {
     "name": "stdout",
     "output_type": "stream",
     "text": [
      "\n",
      " Deleting new column:\n",
      "\n",
      "\n",
      " Extracting the Second row:\n",
      "\n",
      "Emp    Sudeep\n",
      "Id         90\n",
      "ID         90\n",
      "Name: 1, dtype: object\n",
      "Slice rows:\n",
      "       Emp  Id  ID\n",
      "1  Sudeep  90  90\n",
      "2    Siva  28  28\n",
      "3    Yash  57  56\n"
     ]
    }
   ],
   "source": [
    "print(\"\\n Deleting new column:\\n\")\n",
    "del result['Age']\n",
    "print(\"\\n Extracting the Second row:\\n\")\n",
    "print(result.loc[1])\n",
    "print(\"Slice rows:\\n\",result[1:4])"
   ]
  },
  {
   "cell_type": "code",
   "execution_count": 25,
   "id": "a3a7aabc",
   "metadata": {},
   "outputs": [
    {
     "name": "stdout",
     "output_type": "stream",
     "text": [
      "\n",
      " Adding New row values:\n",
      "          Emp    Id   ID\n",
      "0    Darshan  80.0   80\n",
      "1     Sudeep  90.0   90\n",
      "2       Siva  28.0   28\n",
      "3       Yash  57.0   56\n",
      "4  Keerthana  49.0   70\n",
      "0      Vicky   NaN  100\n",
      "1     Rashid   NaN  110\n",
      "\n",
      " Deleting particular row:\n",
      "          Emp  Id  ID\n",
      "0    Darshan  80  80\n",
      "1     Sudeep  90  90\n",
      "3       Yash  57  56\n",
      "4  Keerthana  49  70\n"
     ]
    }
   ],
   "source": [
    "d2=pd.DataFrame([['Vicky',100],['Rashid',110]],columns=['Emp','ID'])\n",
    "print(\"\\n Adding New row values:\\n\",pd.concat([result,d2]))\n",
    "print(\"\\n Deleting particular row:\\n\",result.drop(2))\n"
   ]
  },
  {
   "cell_type": "code",
   "execution_count": null,
   "id": "a4bb5b1d",
   "metadata": {},
   "outputs": [],
   "source": []
  }
 ],
 "metadata": {
  "kernelspec": {
   "display_name": "Python 3 (ipykernel)",
   "language": "python",
   "name": "python3"
  },
  "language_info": {
   "codemirror_mode": {
    "name": "ipython",
    "version": 3
   },
   "file_extension": ".py",
   "mimetype": "text/x-python",
   "name": "python",
   "nbconvert_exporter": "python",
   "pygments_lexer": "ipython3",
   "version": "3.11.3"
  }
 },
 "nbformat": 4,
 "nbformat_minor": 5
}
