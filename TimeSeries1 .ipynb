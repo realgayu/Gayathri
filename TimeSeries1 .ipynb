{
 "cells": [
  {
   "cell_type": "code",
   "execution_count": 29,
   "id": "96c9a05c-c4b8-4db5-a00c-03ffe9aec620",
   "metadata": {},
   "outputs": [
    {
     "name": "stdout",
     "output_type": "stream",
     "text": [
      "today_now function: 2025-04-11 10:46:51.196874\n"
     ]
    }
   ],
   "source": [
    "import datetime\n",
    "a=datetime.datetime.now()\n",
    "print(\"today_now function:\",a)"
   ]
  },
  {
   "cell_type": "code",
   "execution_count": 5,
   "id": "7f206282-e1fd-4ca5-b722-1218dedffbf1",
   "metadata": {},
   "outputs": [
    {
     "name": "stdout",
     "output_type": "stream",
     "text": [
      "\n",
      "today: 2025-04-11 10:37:40.378290\n"
     ]
    }
   ],
   "source": [
    "today=datetime.datetime.today()\n",
    "print(\"\\ntoday:\",today)"
   ]
  },
  {
   "cell_type": "code",
   "execution_count": 7,
   "id": "9b15ead4-0c70-46c9-8235-85add0425072",
   "metadata": {},
   "outputs": [
    {
     "name": "stdout",
     "output_type": "stream",
     "text": [
      "\n",
      "tomorrow: 2025-04-14 10:37:40.378290\n"
     ]
    }
   ],
   "source": [
    "tomorrow=today+datetime.timedelta(days=3)\n",
    "print(\"\\ntomorrow:\",tomorrow)"
   ]
  },
  {
   "cell_type": "code",
   "execution_count": 9,
   "id": "0b40f167-c772-4271-baf1-ef3c6653e405",
   "metadata": {},
   "outputs": [
    {
     "name": "stdout",
     "output_type": "stream",
     "text": [
      "\n",
      "yesterday: 2025-04-09 10:37:40.378290\n"
     ]
    }
   ],
   "source": [
    "yesterday=today-datetime.timedelta(days=2)\n",
    "print(\"\\nyesterday:\",yesterday)"
   ]
  },
  {
   "cell_type": "code",
   "execution_count": 11,
   "id": "a6700890-50ca-434e-bc33-26f37692122e",
   "metadata": {},
   "outputs": [
    {
     "name": "stdout",
     "output_type": "stream",
     "text": [
      "\n",
      "date format [2020,6,8,23,10,25,404040): 2020-06-08 23:10:25.404040\n"
     ]
    }
   ],
   "source": [
    "a=datetime.datetime.now()\n",
    "b=datetime.datetime(2020,6,8,23,10,25,404040)\n",
    "print(\"\\ndate format [2020,6,8,23,10,25,404040):\",b)"
   ]
  },
  {
   "cell_type": "code",
   "execution_count": 23,
   "id": "2c3a220a-3374-466d-93a7-d409608a15e1",
   "metadata": {},
   "outputs": [
    {
     "name": "stdout",
     "output_type": "stream",
     "text": [
      "\n",
      "Replacing date 2024-12-31 2024-12-18\n"
     ]
    }
   ],
   "source": [
    "\n",
    "d=date(2024, 12, 31)\n",
    "print(\"\\nReplacing date\",d,d.replace(day=18))"
   ]
  },
  {
   "cell_type": "code",
   "execution_count": 31,
   "id": "848c84ae-3166-4320-9a99-5208c2ec53ef",
   "metadata": {},
   "outputs": [
    {
     "name": "stdout",
     "output_type": "stream",
     "text": [
      "\n",
      "Day and Month: 2004-04-17 Sat Apr 17 00:00:00 2004\n"
     ]
    }
   ],
   "source": [
    "t=date(2004,4,17)\n",
    "d=date(2004,4,17).ctime()\n",
    "print(\"\\nDay and Month:\",t,d)"
   ]
  },
  {
   "cell_type": "code",
   "execution_count": 33,
   "id": "0f49ccfb-d940-418d-8315-3be1f70665d4",
   "metadata": {},
   "outputs": [
    {
     "name": "stdout",
     "output_type": "stream",
     "text": [
      "\n",
      "Today: 2025-04-11\n",
      "\n",
      "Current year: 2025\n",
      "\n",
      "Current month: 4\n",
      "\n",
      "Current day: 11\n"
     ]
    }
   ],
   "source": [
    "today=date.today()\n",
    "print(\"\\nToday:\",today)\n",
    "print(\"\\nCurrent year:\", today.year)\n",
    "print(\"\\nCurrent month:\", today.month)\n",
    "print(\"\\nCurrent day:\",today.day)"
   ]
  },
  {
   "cell_type": "code",
   "execution_count": null,
   "id": "a4aa5e6d-01a2-4105-bbee-0c2fb99dc2b2",
   "metadata": {},
   "outputs": [],
   "source": []
  }
 ],
 "metadata": {
  "kernelspec": {
   "display_name": "Python 3 (ipykernel)",
   "language": "python",
   "name": "python3"
  },
  "language_info": {
   "codemirror_mode": {
    "name": "ipython",
    "version": 3
   },
   "file_extension": ".py",
   "mimetype": "text/x-python",
   "name": "python",
   "nbconvert_exporter": "python",
   "pygments_lexer": "ipython3",
   "version": "3.12.7"
  }
 },
 "nbformat": 4,
 "nbformat_minor": 5
}
