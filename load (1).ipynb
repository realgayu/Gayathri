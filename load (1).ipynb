{
  "nbformat": 4,
  "nbformat_minor": 0,
  "metadata": {
    "colab": {
      "provenance": []
    },
    "kernelspec": {
      "name": "python3",
      "display_name": "Python 3"
    },
    "language_info": {
      "name": "python"
    }
  },
  "cells": [
    {
      "cell_type": "code",
      "execution_count": 1,
      "metadata": {
        "colab": {
          "base_uri": "https://localhost:8080/"
        },
        "id": "_pkh_PmduNCp",
        "outputId": "49448800-8e0c-4edd-81c6-168388067ddb"
      },
      "outputs": [
        {
          "output_type": "stream",
          "name": "stdout",
          "text": [
            "    Emp ID Name Prefix First Name Middle Initial Last Name Gender  \\\n",
            "0   677509        Drs.       Lois              H    Walker      F   \n",
            "1   940761         Ms.     Brenda              S  Robinson      F   \n",
            "2   428945         Dr.        Joe              W  Robinson      M   \n",
            "3   408351        Drs.      Diane              I     Evans      F   \n",
            "4   193819         Mr.   Benjamin              R   Russell      M   \n",
            "..     ...         ...        ...            ...       ...    ...   \n",
            "95  639892         Mr.       Jose              K      Hill      M   \n",
            "96  704709         Dr.     Harold              Z    Nelson      M   \n",
            "97  461593         Ms.     Nicole              O      Ward      F   \n",
            "98  392491        Mrs.    Theresa              R    Murphy      F   \n",
            "99  495141        Drs.      Tammy              B     Young      F   \n",
            "\n",
            "                          E Mail     Father's Name       Mother's Name  \\\n",
            "0        lois.walker@hotmail.com     Donald Walker        Helen Walker   \n",
            "1      brenda.robinson@gmail.com  Raymond Robinson       Judy Robinson   \n",
            "2         joe.robinson@gmail.com    Scott Robinson  Stephanie Robinson   \n",
            "3          diane.evans@yahoo.com       Jason Evans      Michelle Evans   \n",
            "4   benjamin.russell@charter.net   Gregory Russell   Elizabeth Russell   \n",
            "..                           ...               ...                 ...   \n",
            "95         jose.hill@hotmail.com       Carlos Hill           Anna Hill   \n",
            "96       harold.nelson@gmail.com    Richard Nelson       Pamela Nelson   \n",
            "97         nicole.ward@yahoo.com        Ralph Ward          Julia Ward   \n",
            "98      theresa.murphy@gmail.com     George Murphy   Jacqueline Murphy   \n",
            "99       tammy.young@comcast.net      Andrew Young        Brenda Young   \n",
            "\n",
            "   Mother's Maiden Name  Salary  \n",
            "0                 Lewis  168251  \n",
            "1                 Perry   51063  \n",
            "2                Taylor   50155  \n",
            "3                 Allen  180294  \n",
            "4                Nelson  117642  \n",
            "..                  ...     ...  \n",
            "95                Hayes  129774  \n",
            "96                Smith  156194  \n",
            "97                  Lee   95673  \n",
            "98             Peterson   51015  \n",
            "99             Robinson   93650  \n",
            "\n",
            "[100 rows x 11 columns]\n"
          ]
        }
      ],
      "source": [
        "import pandas as pd\n",
        "d=pd.read_csv(\"employee.csv\")\n",
        "print(d)"
      ]
    },
    {
      "cell_type": "code",
      "source": [
        "df=pd.DataFrame(d)\n",
        "print(\"columns\",df.columns)"
      ],
      "metadata": {
        "colab": {
          "base_uri": "https://localhost:8080/"
        },
        "id": "-T5d1VNIu7y4",
        "outputId": "19a35454-f349-44b0-93d7-d535fe66bf7f"
      },
      "execution_count": 2,
      "outputs": [
        {
          "output_type": "stream",
          "name": "stdout",
          "text": [
            "columns Index(['Emp ID', 'Name Prefix', 'First Name', 'Middle Initial', 'Last Name',\n",
            "       'Gender', 'E Mail', 'Father's Name', 'Mother's Name',\n",
            "       'Mother's Maiden Name', 'Salary'],\n",
            "      dtype='object')\n"
          ]
        }
      ]
    },
    {
      "cell_type": "code",
      "source": [
        "print(df[1:5])"
      ],
      "metadata": {
        "colab": {
          "base_uri": "https://localhost:8080/"
        },
        "id": "d19BpqmUviL1",
        "outputId": "848198d0-a34a-4b7d-a9c8-9c319eecd58c"
      },
      "execution_count": 3,
      "outputs": [
        {
          "output_type": "stream",
          "name": "stdout",
          "text": [
            "   Emp ID Name Prefix First Name Middle Initial Last Name Gender  \\\n",
            "1  940761         Ms.     Brenda              S  Robinson      F   \n",
            "2  428945         Dr.        Joe              W  Robinson      M   \n",
            "3  408351        Drs.      Diane              I     Evans      F   \n",
            "4  193819         Mr.   Benjamin              R   Russell      M   \n",
            "\n",
            "                         E Mail     Father's Name       Mother's Name  \\\n",
            "1     brenda.robinson@gmail.com  Raymond Robinson       Judy Robinson   \n",
            "2        joe.robinson@gmail.com    Scott Robinson  Stephanie Robinson   \n",
            "3         diane.evans@yahoo.com       Jason Evans      Michelle Evans   \n",
            "4  benjamin.russell@charter.net   Gregory Russell   Elizabeth Russell   \n",
            "\n",
            "  Mother's Maiden Name  Salary  \n",
            "1                Perry   51063  \n",
            "2               Taylor   50155  \n",
            "3                Allen  180294  \n",
            "4               Nelson  117642  \n"
          ]
        }
      ]
    },
    {
      "cell_type": "code",
      "source": [
        "print(\"408351\",df.loc[9])"
      ],
      "metadata": {
        "colab": {
          "base_uri": "https://localhost:8080/"
        },
        "id": "onNmKQDMxm2K",
        "outputId": "2d802efe-0451-4a8a-b6fe-0a46ab548def"
      },
      "execution_count": 4,
      "outputs": [
        {
          "output_type": "stream",
          "name": "stdout",
          "text": [
            "408351 Emp ID                                        162402\n",
            "Name Prefix                                     Hon.\n",
            "First Name                                     Diana\n",
            "Middle Initial                                     T\n",
            "Last Name                                   Peterson\n",
            "Gender                                             F\n",
            "E Mail                  diana.peterson@hotmail.co.uk\n",
            "Father's Name                      Jonathan Peterson\n",
            "Mother's Name                     Christina Peterson\n",
            "Mother's Maiden Name                            Ross\n",
            "Salary                                         43010\n",
            "Name: 9, dtype: object\n"
          ]
        }
      ]
    },
    {
      "cell_type": "code",
      "source": [
        "print(\"First Name\",df['First Name'])"
      ],
      "metadata": {
        "colab": {
          "base_uri": "https://localhost:8080/"
        },
        "id": "wLAT-bMAx3r_",
        "outputId": "380d2ce9-a606-458b-c785-393681b2f095"
      },
      "execution_count": 5,
      "outputs": [
        {
          "output_type": "stream",
          "name": "stdout",
          "text": [
            "First Name 0         Lois\n",
            "1       Brenda\n",
            "2          Joe\n",
            "3        Diane\n",
            "4     Benjamin\n",
            "        ...   \n",
            "95        Jose\n",
            "96      Harold\n",
            "97      Nicole\n",
            "98     Theresa\n",
            "99       Tammy\n",
            "Name: First Name, Length: 100, dtype: object\n"
          ]
        }
      ]
    },
    {
      "cell_type": "code",
      "source": [],
      "metadata": {
        "id": "_h3FRjOlyV2Y"
      },
      "execution_count": null,
      "outputs": []
    }
  ]
}