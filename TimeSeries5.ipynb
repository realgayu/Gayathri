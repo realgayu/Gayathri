{
 "cells": [
  {
   "cell_type": "code",
   "execution_count": 1,
   "id": "4bda6fbb-5d63-487a-8d75-b4a6775571cc",
   "metadata": {},
   "outputs": [
    {
     "name": "stdout",
     "output_type": "stream",
     "text": [
      "\n",
      "With this date object, create a series with datetime index:\n",
      " 2020-01-05    0.453949\n",
      "2020-01-10   -0.442463\n",
      "2020-01-15    2.441096\n",
      "2020-01-20   -0.671140\n",
      "2020-01-25    0.661302\n",
      "dtype: float64\n"
     ]
    }
   ],
   "source": [
    "import pandas as pd\n",
    "import numpy as np\n",
    "from datetime import datetime\n",
    "dates = [datetime(2020,1,5),\n",
    "datetime(2020,1,10),\n",
    "datetime(2020,1,15),\n",
    "datetime(2020,1,20),\n",
    "datetime(2020,1,25)]\n",
    "ts = pd.Series(np.random.randn(5), index=dates)\n",
    "print(\"\\nWith this date object, create a series with datetime index:\\n\",ts)"
   ]
  },
  {
   "cell_type": "code",
   "execution_count": 3,
   "id": "c12ef5b4-4417-459f-8dcc-452671c21cdb",
   "metadata": {},
   "outputs": [
    {
     "name": "stdout",
     "output_type": "stream",
     "text": [
      "\n",
      "Truncate method to truncate datetime series \n",
      " 2020-01-05    0.453949\n",
      "2020-01-10   -0.442463\n",
      "2020-01-15    2.441096\n",
      "dtype: float64\n"
     ]
    }
   ],
   "source": [
    "res=ts.truncate(after=\"1/15/2020\")\n",
    "print(\"\\nTruncate method to truncate datetime series \\n\", res)"
   ]
  },
  {
   "cell_type": "code",
   "execution_count": 5,
   "id": "e4c43e77-caf9-4f66-aeca-9f136775c036",
   "metadata": {},
   "outputs": [
    {
     "name": "stdout",
     "output_type": "stream",
     "text": [
      "\n",
      "Date range with day periods.\n",
      " DatetimeIndex(['2022-10-02', '2022-10-09', '2022-10-16', '2022-10-23',\n",
      "               '2022-10-30', '2022-11-06', '2022-11-13', '2022-11-20',\n",
      "               '2022-11-27', '2022-12-04'],\n",
      "              dtype='datetime64[ns]', freq='W-SUN')\n"
     ]
    }
   ],
   "source": [
    "da=pd.date_range(\"10/1/2022\", periods=10, freq=\"W-SUN\")\n",
    "print(\"\\nDate range with day periods.\\n\",da)"
   ]
  },
  {
   "cell_type": "code",
   "execution_count": 9,
   "id": "b59626bf-41f0-46ff-a907-8d9fd4fff1a2",
   "metadata": {},
   "outputs": [
    {
     "name": "stdout",
     "output_type": "stream",
     "text": [
      "\n",
      "Duplicate datetime index:\n",
      " 2020-01-01    0\n",
      "2020-01-02    1\n",
      "2020-01-02    2\n",
      "2020-01-02    3\n",
      "2020-01-03    4\n",
      "dtype: int64\n"
     ]
    }
   ],
   "source": [
    "date=pd.DatetimeIndex([\"1/1/2020\",\"1/2/2020\",\"1/2/2020\",\"1/2/2020\",\"1/3/2020\"])\n",
    "ts1=pd.Series(np.arange(5), index=date)\n",
    "print(\"\\nDuplicate datetime index:\\n\",ts1)"
   ]
  },
  {
   "cell_type": "code",
   "execution_count": 11,
   "id": "cf4f947b-6b7a-4e1d-8871-19bd55f23863",
   "metadata": {},
   "outputs": [
    {
     "name": "stdout",
     "output_type": "stream",
     "text": [
      "\n",
      "Repeated date counts:\n",
      " 2020-01-01    1\n",
      "2020-01-02    3\n",
      "2020-01-03    1\n",
      "dtype: int64\n"
     ]
    }
   ],
   "source": [
    "group=ts1.groupby(level=0)\n",
    "print(\"\\nRepeated date counts:\\n\",group.count())"
   ]
  },
  {
   "cell_type": "code",
   "execution_count": 15,
   "id": "be8219da-712d-4485-955d-7f18ba23874c",
   "metadata": {},
   "outputs": [
    {
     "name": "stdout",
     "output_type": "stream",
     "text": [
      "\n",
      "Multi-column DataFrame with datatime index:\n",
      "                    A         B         C         D\n",
      "2022-10-02 -0.704954  1.947832 -1.546283 -0.543476\n",
      "2022-10-09 -1.366277 -1.402892  0.744345  0.975274\n",
      "2022-10-16  2.200359  1.346260  0.101499 -0.231282\n",
      "2022-10-23 -0.555657 -1.628055 -0.036297 -0.138794\n",
      "2022-10-30  1.057771  1.900596  0.768122  0.395621\n",
      "2022-11-06 -1.177579  0.485304  0.063056 -0.246812\n",
      "2022-11-13 -0.053164  0.807359 -0.558221  0.664449\n",
      "2022-11-20  0.142619  0.226841 -0.795823  1.336027\n",
      "2022-11-27  1.169440  0.883622 -0.377629 -0.936381\n",
      "2022-12-04  0.322311 -0.421378 -1.235026 -1.522752\n"
     ]
    }
   ],
   "source": [
    "long_df=pd.DataFrame(np.random.randn(10,4),index=da,columns=list(\"ABCD\"))\n",
    "print(\"\\nMulti-column DataFrame with datatime index:\\n\",long_df)"
   ]
  },
  {
   "cell_type": "code",
   "execution_count": null,
   "id": "3a5eab24-1d96-45ac-b7a7-e20955123d3c",
   "metadata": {},
   "outputs": [],
   "source": []
  }
 ],
 "metadata": {
  "kernelspec": {
   "display_name": "Python 3 (ipykernel)",
   "language": "python",
   "name": "python3"
  },
  "language_info": {
   "codemirror_mode": {
    "name": "ipython",
    "version": 3
   },
   "file_extension": ".py",
   "mimetype": "text/x-python",
   "name": "python",
   "nbconvert_exporter": "python",
   "pygments_lexer": "ipython3",
   "version": "3.12.7"
  }
 },
 "nbformat": 4,
 "nbformat_minor": 5
}
