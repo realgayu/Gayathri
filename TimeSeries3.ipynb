{
 "cells": [
  {
   "cell_type": "code",
   "execution_count": 2,
   "id": "b66d34fc-9cb9-46bd-a677-caa660816d43",
   "metadata": {},
   "outputs": [
    {
     "name": "stdout",
     "output_type": "stream",
     "text": [
      "Date Index \n",
      " 2011-01-02   -0.285761\n",
      "2011-01-05    1.252523\n",
      "2011-01-07    1.848580\n",
      "2011-01-08   -0.315406\n",
      "2011-01-10    0.120922\n",
      "2011-01-12   -2.496172\n",
      "dtype: float64\n"
     ]
    }
   ],
   "source": [
    "import pandas as pd\n",
    "import numpy as np\n",
    "from datetime import datetime\n",
    "\n",
    "#create a date variable that contains the dates\n",
    "dates = [datetime(2011, 1, 2),\n",
    "datetime(2011, 1, 5),\n",
    "datetime(2011, 1, 7),\n",
    "datetime(2011, 1, 8),\n",
    "datetime(2011, 1, 10),\n",
    "datetime(2011, 1, 12)]\n",
    "\n",
    "#with this date object, create a series\n",
    "ts = pd.Series(np.random.randn(6), index=dates)\n",
    "print(\"Date Index \\n\",ts)"
   ]
  },
  {
   "cell_type": "code",
   "execution_count": 4,
   "id": "1a690b73-d49b-4a6a-937a-f6a1b86caa95",
   "metadata": {},
   "outputs": [
    {
     "name": "stdout",
     "output_type": "stream",
     "text": [
      "\n",
      "Date Index alone from the series: \n",
      " DatetimeIndex(['2011-01-02', '2011-01-05', '2011-01-07', '2011-01-08',\n",
      "               '2011-01-10', '2011-01-12'],\n",
      "              dtype='datetime64[ns]', freq=None)\n"
     ]
    }
   ],
   "source": [
    "print(\"\\nDate Index alone from the series: \\n\",ts.index)"
   ]
  },
  {
   "cell_type": "code",
   "execution_count": 6,
   "id": "c432583c-2157-423b-8fbe-2ff2508280f1",
   "metadata": {},
   "outputs": [
    {
     "name": "stdout",
     "output_type": "stream",
     "text": [
      "\n",
      "Second index:\n",
      " 2011-01-07 00:00:00\n"
     ]
    }
   ],
   "source": [
    "stamp=ts.index[2]\n",
    "print(\"\\nSecond index:\\n\", stamp)"
   ]
  },
  {
   "cell_type": "code",
   "execution_count": 8,
   "id": "97bb9af3-e424-4048-a49e-5bac5a8eadfc",
   "metadata": {},
   "outputs": [
    {
     "name": "stdout",
     "output_type": "stream",
     "text": [
      "\n",
      "Daterange up to 1000 days:\n",
      " 2000-01-01   -0.258710\n",
      "2000-01-02   -1.343115\n",
      "2000-01-03    0.588510\n",
      "2000-01-04    0.878191\n",
      "2000-01-05    1.472705\n",
      "                ...   \n",
      "2002-09-22   -0.490398\n",
      "2002-09-23    1.277473\n",
      "2002-09-24   -0.476498\n",
      "2002-09-25   -0.372615\n",
      "2002-09-26   -0.593303\n",
      "Freq: D, Length: 1000, dtype: float64\n"
     ]
    }
   ],
   "source": [
    "#play like a ball with long-times series\n",
    "longer_ts=pd.Series(np.random.randn(1000),\n",
    "index=pd.date_range(\"2000-01-01\",periods=1000))\n",
    "print(\"\\nDaterange up to 1000 days:\\n\",longer_ts)"
   ]
  },
  {
   "cell_type": "code",
   "execution_count": 10,
   "id": "f35a51c0-6913-4124-a653-7735cd9ae808",
   "metadata": {},
   "outputs": [
    {
     "name": "stdout",
     "output_type": "stream",
     "text": [
      "\n",
      "Date range-2001 year:\n",
      " 2001-01-01   -0.318101\n",
      "2001-01-02   -0.768432\n",
      "2001-01-03   -0.024101\n",
      "2001-01-04   -2.019658\n",
      "2001-01-05   -1.238827\n",
      "                ...   \n",
      "2001-12-27    0.965885\n",
      "2001-12-28   -1.672967\n",
      "2001-12-29   -0.501964\n",
      "2001-12-30   -0.168959\n",
      "2001-12-31   -1.804541\n",
      "Freq: D, Length: 365, dtype: float64\n"
     ]
    }
   ],
   "source": [
    "print(\"\\nDate range-2001 year:\\n\", longer_ts[\"2001\"])"
   ]
  },
  {
   "cell_type": "code",
   "execution_count": 12,
   "id": "c16b8afd-0c28-42e0-a2b1-a7616a3c3354",
   "metadata": {},
   "outputs": [
    {
     "name": "stdout",
     "output_type": "stream",
     "text": [
      "\n",
      "Date range-05 month 2001 year:\n",
      " 2001-05-01   -1.158868\n",
      "2001-05-02   -2.330878\n",
      "2001-05-03    0.768528\n",
      "2001-05-04    0.394892\n",
      "2001-05-05    0.409752\n",
      "2001-05-06   -0.179083\n",
      "2001-05-07   -1.210709\n",
      "2001-05-08    0.254990\n",
      "2001-05-09   -1.477428\n",
      "2001-05-10    0.406733\n",
      "2001-05-11    0.301949\n",
      "2001-05-12    1.756794\n",
      "2001-05-13    0.692355\n",
      "2001-05-14   -1.902872\n",
      "2001-05-15   -0.412608\n",
      "2001-05-16   -0.072475\n",
      "2001-05-17    0.709420\n",
      "2001-05-18   -0.010641\n",
      "2001-05-19   -0.281820\n",
      "2001-05-20   -1.154868\n",
      "2001-05-21    0.881138\n",
      "2001-05-22   -0.643554\n",
      "2001-05-23    0.579928\n",
      "2001-05-24   -0.535748\n",
      "2001-05-25    3.721932\n",
      "2001-05-26    0.915408\n",
      "2001-05-27   -0.073377\n",
      "2001-05-28    0.990078\n",
      "2001-05-29   -0.065472\n",
      "2001-05-30   -1.996787\n",
      "2001-05-31    0.994940\n",
      "Freq: D, dtype: float64\n"
     ]
    }
   ],
   "source": [
    "print(\"\\nDate range-05 month 2001 year:\\n\", longer_ts[\"2001-05\"])"
   ]
  },
  {
   "cell_type": "code",
   "execution_count": 14,
   "id": "d19d18e0-ee8d-4867-b8e6-78c82cc9bb43",
   "metadata": {},
   "outputs": [
    {
     "name": "stdout",
     "output_type": "stream",
     "text": [
      "\n",
      "Date range-first few dates in 2000 year:\n",
      " 2000-01-01   -0.258710\n",
      "2000-01-02   -1.343115\n",
      "2000-01-03    0.588510\n",
      "2000-01-04    0.878191\n",
      "2000-01-05    1.472705\n",
      "Freq: D, dtype: float64\n"
     ]
    }
   ],
   "source": [
    "print(\"\\nDate range-first few dates in 2000 year:\\n\",longer_ts[\"2000\"].head())"
   ]
  },
  {
   "cell_type": "code",
   "execution_count": 18,
   "id": "6b6bd6a0-5cc9-41e5-93dc-e3fa4c181d4c",
   "metadata": {},
   "outputs": [
    {
     "name": "stdout",
     "output_type": "stream",
     "text": [
      "\n",
      "Date range-first 15 dates in 02 month 2001 year:\n",
      " 2000-02-01    0.587964\n",
      "2000-02-02    0.701652\n",
      "2000-02-03   -0.201584\n",
      "2000-02-04    0.360701\n",
      "2000-02-05   -0.217550\n",
      "2000-02-06   -0.166606\n",
      "2000-02-07    0.792005\n",
      "2000-02-08   -1.642886\n",
      "2000-02-09   -0.932862\n",
      "2000-02-10    1.744171\n",
      "2000-02-11    1.417630\n",
      "2000-02-12   -0.300986\n",
      "2000-02-13   -0.409835\n",
      "2000-02-14    2.362147\n",
      "2000-02-15    0.998576\n",
      "Freq: D, dtype: float64\n"
     ]
    }
   ],
   "source": [
    "print(\"\\nDate range-first 15 dates in 02 month 2001 year:\\n\",longer_ts[\"2000-02\"].head(15))"
   ]
  },
  {
   "cell_type": "code",
   "execution_count": 20,
   "id": "0d69171c-bbbf-4be7-ac98-265f955e366b",
   "metadata": {},
   "outputs": [
    {
     "name": "stdout",
     "output_type": "stream",
     "text": [
      "\n",
      "Date range-rom 26-9-2001:\n",
      " 2000-09-26   -0.412781\n",
      "2000-09-27   -0.900596\n",
      "2000-09-28    0.941019\n",
      "2000-09-29   -0.212779\n",
      "2000-09-30   -1.068331\n",
      "                ...   \n",
      "2002-09-22   -0.490398\n",
      "2002-09-23    1.277473\n",
      "2002-09-24   -0.476498\n",
      "2002-09-25   -0.372615\n",
      "2002-09-26   -0.593303\n",
      "Freq: D, Length: 731, dtype: float64\n"
     ]
    }
   ],
   "source": [
    "print(\"\\nDate range-rom 26-9-2001:\\n\",longer_ts[datetime(2000,9,26):])"
   ]
  },
  {
   "cell_type": "code",
   "execution_count": 22,
   "id": "2739a790-576d-4d0c-86ac-352a62ec39e1",
   "metadata": {},
   "outputs": [
    {
     "name": "stdout",
     "output_type": "stream",
     "text": [
      "\n",
      "Date range from 26-9-2001 to 25-9-2002:\n",
      " 2001-09-26   -0.395973\n",
      "2001-09-27   -0.541545\n",
      "2001-09-28    1.532194\n",
      "2001-09-29   -0.161554\n",
      "2001-09-30   -0.252387\n",
      "                ...   \n",
      "2002-09-21    0.288975\n",
      "2002-09-22   -0.490398\n",
      "2002-09-23    1.277473\n",
      "2002-09-24   -0.476498\n",
      "2002-09-25   -0.372615\n",
      "Freq: D, Length: 365, dtype: float64\n"
     ]
    }
   ],
   "source": [
    "print(\"\\nDate range from 26-9-2001 to 25-9-2002:\\n\",longer_ts[datetime(2001,9,26):datetime(2002,9,25)])"
   ]
  },
  {
   "cell_type": "code",
   "execution_count": null,
   "id": "07c49e26-f69b-4983-a7d1-1b846832a621",
   "metadata": {},
   "outputs": [],
   "source": []
  }
 ],
 "metadata": {
  "kernelspec": {
   "display_name": "Python 3 (ipykernel)",
   "language": "python",
   "name": "python3"
  },
  "language_info": {
   "codemirror_mode": {
    "name": "ipython",
    "version": 3
   },
   "file_extension": ".py",
   "mimetype": "text/x-python",
   "name": "python",
   "nbconvert_exporter": "python",
   "pygments_lexer": "ipython3",
   "version": "3.12.7"
  }
 },
 "nbformat": 4,
 "nbformat_minor": 5
}
