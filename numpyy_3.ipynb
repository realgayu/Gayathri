{
  "nbformat": 4,
  "nbformat_minor": 0,
  "metadata": {
    "colab": {
      "provenance": []
    },
    "kernelspec": {
      "name": "python3",
      "display_name": "Python 3"
    },
    "language_info": {
      "name": "python"
    }
  },
  "cells": [
    {
      "cell_type": "code",
      "execution_count": 5,
      "metadata": {
        "colab": {
          "base_uri": "https://localhost:8080/"
        },
        "id": "gmuDJlZf9K9Z",
        "outputId": "5215992b-2145-47a8-ab0f-fcfc82e32281"
      },
      "outputs": [
        {
          "output_type": "stream",
          "name": "stdout",
          "text": [
            "(array([1, 4]),)\n"
          ]
        }
      ],
      "source": [
        "#index retriveal\n",
        "import numpy as np\n",
        "arr=np.array([1,6,2,7,6,4])\n",
        "x=np.where(arr==6)\n",
        "print(x)"
      ]
    },
    {
      "cell_type": "code",
      "source": [
        "arr=np.array([0,1,2,2,7,8,9])\n",
        "x=np.searchsorted(arr,3,side='left')\n",
        "print(x)"
      ],
      "metadata": {
        "colab": {
          "base_uri": "https://localhost:8080/"
        },
        "id": "rBn5XhXIAUr_",
        "outputId": "3625ddf5-79f6-42a3-b661-999a79fe08c4"
      },
      "execution_count": 7,
      "outputs": [
        {
          "output_type": "stream",
          "name": "stdout",
          "text": [
            "4\n"
          ]
        }
      ]
    },
    {
      "cell_type": "code",
      "source": [
        "arr=np.array([9,5,2,7,6,4])\n",
        "print(np.sort(arr))\n",
        "a=np.array([[7,4,9],[9,1,4]])\n",
        "print(np.sort(a))"
      ],
      "metadata": {
        "colab": {
          "base_uri": "https://localhost:8080/"
        },
        "id": "fU48aairAUwG",
        "outputId": "c5f2fa6d-171d-404c-9069-5930a1432038"
      },
      "execution_count": 8,
      "outputs": [
        {
          "output_type": "stream",
          "name": "stdout",
          "text": [
            "[2 4 5 6 7 9]\n",
            "[[4 7 9]\n",
            " [1 4 9]]\n"
          ]
        }
      ]
    },
    {
      "cell_type": "code",
      "source": [
        "#boolean indexing\n",
        "arr=np.array([31,78,69,88])\n",
        "x=[False,True,False,True]\n",
        "newarr=arr[x]\n",
        "print(x)\n",
        "print(newarr)"
      ],
      "metadata": {
        "colab": {
          "base_uri": "https://localhost:8080/"
        },
        "id": "3tAZI9THF12o",
        "outputId": "be9231c2-0cbb-467c-9ea9-743b4e310277"
      },
      "execution_count": 11,
      "outputs": [
        {
          "output_type": "stream",
          "name": "stdout",
          "text": [
            "[False, True, False, True]\n",
            "[78 88]\n"
          ]
        }
      ]
    },
    {
      "cell_type": "code",
      "source": [
        "arr=np.array([31,78,69,88])\n",
        "filter_arr=arr<70\n",
        "newarr=arr[filter_arr]\n",
        "print(filter_arr)\n",
        "print(newarr)"
      ],
      "metadata": {
        "colab": {
          "base_uri": "https://localhost:8080/"
        },
        "id": "ytTzqntnHTb4",
        "outputId": "25545ec8-a7cb-4cb5-bf01-cb8048e15606"
      },
      "execution_count": 13,
      "outputs": [
        {
          "output_type": "stream",
          "name": "stdout",
          "text": [
            "[ True False  True False]\n",
            "[31 69]\n"
          ]
        }
      ]
    },
    {
      "cell_type": "code",
      "source": [],
      "metadata": {
        "id": "nTK4DoteI5e1"
      },
      "execution_count": null,
      "outputs": []
    }
  ]
}