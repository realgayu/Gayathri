{
 "cells": [
  {
   "cell_type": "code",
   "execution_count": 11,
   "id": "a82d4a29",
   "metadata": {},
   "outputs": [
    {
     "name": "stdout",
     "output_type": "stream",
     "text": [
      "        one       two     three\n",
      "a  1.429106  1.612927 -2.432735\n",
      "b       NaN       NaN       NaN\n",
      "c -2.790670  0.194540  1.388141\n",
      "d -0.795998 -0.932926  0.815822\n",
      "e       NaN       NaN       NaN\n",
      "f -0.262542 -0.562099  0.479606\n"
     ]
    }
   ],
   "source": [
    "import pandas as pd\n",
    "import numpy as np\n",
    "df=pd.DataFrame(np.random.randn(4,3),index=['a','c','d','f'], columns=['one','two','three'])\n",
    "df1=df.reindex(['a','b','c','d','e','f'])\n",
    "print(df1)"
   ]
  },
  {
   "cell_type": "code",
   "execution_count": 20,
   "id": "5617f30a",
   "metadata": {},
   "outputs": [
    {
     "name": "stdout",
     "output_type": "stream",
     "text": [
      "        one       two     three\n",
      "a  1.429106  1.612927 -2.432735\n",
      "c -2.790670  0.194540  1.388141\n",
      "d -0.795998 -0.932926  0.815822\n",
      "f -0.262542 -0.562099  0.479606\n"
     ]
    }
   ],
   "source": [
    "#Removing the NaN values\n",
    "print(df1.dropna())"
   ]
  },
  {
   "cell_type": "code",
   "execution_count": 16,
   "id": "9a2fa2ec",
   "metadata": {},
   "outputs": [
    {
     "name": "stdout",
     "output_type": "stream",
     "text": [
      "        one       two     three\n",
      "a  1.429106  1.612927 -2.432735\n",
      "b       NaN       NaN       NaN\n",
      "c -2.790670  0.194540  1.388141\n",
      "\n",
      "         one       two     three\n",
      "a  1.429106  1.612927 -2.432735\n",
      "b  0.000000  0.000000  0.000000\n",
      "c -2.790670  0.194540  1.388141\n"
     ]
    }
   ],
   "source": [
    "#Filling the NaN with zeros\n",
    "df2=df.reindex(['a','b','c'])\n",
    "print(df2)\n",
    "print(\"\\n\",df2.fillna(0))"
   ]
  },
  {
   "cell_type": "code",
   "execution_count": 19,
   "id": "908ffb8c",
   "metadata": {},
   "outputs": [
    {
     "name": "stdout",
     "output_type": "stream",
     "text": [
      "   one  two\n",
      "0   10   60\n",
      "1   20   70\n",
      "2   80   80\n",
      "3   40    0\n",
      "4   50   10\n",
      "   one  two\n",
      "0    5   60\n",
      "1   20   70\n",
      "2    3    3\n",
      "3   40    0\n",
      "4   50    5\n"
     ]
    }
   ],
   "source": [
    "#Replacing the values:\n",
    "df3=pd.DataFrame({'one':[10,20,80,40,50],'two':[60,70,80,0,10]})\n",
    "print(df3)\n",
    "print(df3.replace({10:5, 80:3}))"
   ]
  },
  {
   "cell_type": "code",
   "execution_count": 24,
   "id": "3cbb0cd1",
   "metadata": {},
   "outputs": [
    {
     "name": "stdout",
     "output_type": "stream",
     "text": [
      "Original dataframe:\n",
      "         one       two     three\n",
      "a  1.405521 -0.655324 -0.086900\n",
      "b       NaN       NaN       NaN\n",
      "c  0.074051  0.105124  0.266859\n",
      "d  0.334109 -0.412562  0.305647\n",
      "e       NaN       NaN       NaN\n",
      "f -0.190203 -0.178907 -0.213330\n",
      "\n",
      " NaN-with true fill:\n",
      "\n",
      "a    False\n",
      "b     True\n",
      "c    False\n",
      "d    False\n",
      "e     True\n",
      "f    False\n",
      "Name: one, dtype: bool\n"
     ]
    }
   ],
   "source": [
    "#Filling NaN with boolean values\n",
    "df=pd.DataFrame(np.random.randn(4,3),index=['a','c','d','f'], columns=['one','two','three'])\n",
    "df1=df.reindex(['a','b','c','d','e','f'])\n",
    "print(\"Original dataframe:\\n\",df1)\n",
    "print(\"\\n NaN-with true fill:\\n\")\n",
    "print(df1['one'].isnull())"
   ]
  },
  {
   "cell_type": "code",
   "execution_count": 33,
   "id": "6b6b15bf",
   "metadata": {},
   "outputs": [
    {
     "name": "stdout",
     "output_type": "stream",
     "text": [
      "\n",
      " NaN-filled with background values:\n",
      "\n",
      "Forward filling\n",
      "         one       two     three\n",
      "a  1.405521 -0.655324 -0.086900\n",
      "b  1.405521 -0.655324 -0.086900\n",
      "c  0.074051  0.105124  0.266859\n",
      "d  0.334109 -0.412562  0.305647\n",
      "e  0.334109 -0.412562  0.305647\n",
      "f -0.190203 -0.178907 -0.213330\n",
      "Backward filling\n",
      "         one       two     three\n",
      "a  1.405521 -0.655324 -0.086900\n",
      "b  0.074051  0.105124  0.266859\n",
      "c  0.074051  0.105124  0.266859\n",
      "d  0.334109 -0.412562  0.305647\n",
      "e -0.190203 -0.178907 -0.213330\n",
      "f -0.190203 -0.178907 -0.213330\n"
     ]
    }
   ],
   "source": [
    "print(\"\\n NaN-filled with background values:\\n\")\n",
    "#forward filling\n",
    "print(\"Forward filling\\n\",df1.fillna(method='ffill'))\n",
    "#backward filling\n",
    "print(\"Backward filling\\n\",df1.fillna(method='bfill'))"
   ]
  },
  {
   "cell_type": "code",
   "execution_count": null,
   "id": "dc0d9007",
   "metadata": {},
   "outputs": [],
   "source": []
  }
 ],
 "metadata": {
  "kernelspec": {
   "display_name": "Python 3 (ipykernel)",
   "language": "python",
   "name": "python3"
  },
  "language_info": {
   "codemirror_mode": {
    "name": "ipython",
    "version": 3
   },
   "file_extension": ".py",
   "mimetype": "text/x-python",
   "name": "python",
   "nbconvert_exporter": "python",
   "pygments_lexer": "ipython3",
   "version": "3.11.5"
  }
 },
 "nbformat": 4,
 "nbformat_minor": 5
}
