{
 "cells": [
  {
   "cell_type": "code",
   "execution_count": 1,
   "id": "c9c5d40b",
   "metadata": {},
   "outputs": [
    {
     "name": "stdout",
     "output_type": "stream",
     "text": [
      "One dimensional array: [10 20 30]\n"
     ]
    }
   ],
   "source": [
    "import numpy as np\n",
    "a=np.array([10,20,30])\n",
    "print(\"One dimensional array:\",a)\n"
   ]
  },
  {
   "cell_type": "code",
   "execution_count": null,
   "id": "0da9ed5e",
   "metadata": {},
   "outputs": [],
   "source": []
  },
  {
   "cell_type": "code",
   "execution_count": 2,
   "id": "ac1ce0a3",
   "metadata": {},
   "outputs": [
    {
     "name": "stdout",
     "output_type": "stream",
     "text": [
      "Two dimensional array: [[1 2 3]\n",
      " [4 5 6]]\n"
     ]
    }
   ],
   "source": [
    "import numpy as np\n",
    "b=np.array([[1,2,3],[4,5,6]])\n",
    "print(\"Two dimensional array:\",b)"
   ]
  },
  {
   "cell_type": "code",
   "execution_count": 3,
   "id": "b3f1d65e",
   "metadata": {},
   "outputs": [
    {
     "name": "stdout",
     "output_type": "stream",
     "text": [
      "Three dimensional array: [[1 2 3]\n",
      " [4 5 6]\n",
      " [7 8 9]]\n"
     ]
    }
   ],
   "source": [
    "import numpy as np\n",
    "c=np.array([[1,2,3],[4,5,6],[7,8,9]])\n",
    "print(\"Three dimensional array:\",c)"
   ]
  },
  {
   "cell_type": "code",
   "execution_count": 4,
   "id": "13483f03",
   "metadata": {},
   "outputs": [
    {
     "name": "stdout",
     "output_type": "stream",
     "text": [
      "\n",
      " array with all zereos\n",
      " [[0. 0. 0. 0. 0.]\n",
      " [0. 0. 0. 0. 0.]\n",
      " [0. 0. 0. 0. 0.]]\n"
     ]
    }
   ],
   "source": [
    "import numpy as np\n",
    "d=np.zeros((3,5))\n",
    "print(\"\\n array with all zereos\\n\",d)\n"
   ]
  },
  {
   "cell_type": "code",
   "execution_count": 6,
   "id": "b55aa912",
   "metadata": {},
   "outputs": [
    {
     "name": "stdout",
     "output_type": "stream",
     "text": [
      "\n",
      "random value:\n",
      " [[0.36991328 0.16382894]\n",
      " [0.19645263 0.9125452 ]\n",
      " [0.37061954 0.99439656]]\n"
     ]
    }
   ],
   "source": [
    "import numpy as np\n",
    "e=np.random.random((3,2))\n",
    "print(\"\\nrandom value:\\n\",e)"
   ]
  },
  {
   "cell_type": "code",
   "execution_count": 7,
   "id": "0d3bb33f",
   "metadata": {},
   "outputs": [
    {
     "name": "stdout",
     "output_type": "stream",
     "text": [
      "\n",
      " sequence array :\n",
      " [10 15 20 25]\n"
     ]
    }
   ],
   "source": [
    "import numpy as np\n",
    "f=np.arange(10,30,5)\n",
    "print(\"\\n sequence array :\\n\",f)\n"
   ]
  },
  {
   "cell_type": "code",
   "execution_count": 4,
   "id": "f3de9928",
   "metadata": {},
   "outputs": [
    {
     "name": "stdout",
     "output_type": "stream",
     "text": [
      "\n",
      " old array :\n",
      " [[1 2 3 4]\n",
      " [5 2 4 2]\n",
      " [1 2 0 1]]\n",
      "\n",
      " reshaped array:\n",
      " [[1 2 3]\n",
      " [4 5 2]\n",
      " [4 2 1]\n",
      " [2 0 1]]\n"
     ]
    }
   ],
   "source": [
    "import numpy as np\n",
    "a=np.array([[1,2,3,4],[5,2,4,2],[1,2,0,1]])\n",
    "b=a.reshape(4,3)\n",
    "print(\"\\n old array :\\n\",a)\n",
    "print(\"\\n reshaped array:\\n\",b)\n"
   ]
  },
  {
   "cell_type": "code",
   "execution_count": 2,
   "id": "342999dd",
   "metadata": {},
   "outputs": [
    {
     "name": "stdout",
     "output_type": "stream",
     "text": [
      "Array with zeros: [[0. 0. 0.]\n",
      " [0. 0. 0.]\n",
      " [0. 0. 0.]\n",
      " [0. 0. 0.]\n",
      " [0. 0. 0.]]\n",
      "\n",
      " Array with random values:\n",
      " [[0.13539421 0.52204954 0.96892955]\n",
      " [0.79955324 0.35080834 0.19218304]\n",
      " [0.76212539 0.36333579 0.98150949]\n",
      " [0.28955575 0.92086973 0.71597759]\n",
      " [0.78937333 0.6411776  0.34775191]]\n",
      "\n",
      " Array in step:\n",
      " [0 2 4 6 8]\n",
      "\n",
      " Old array: \n",
      " [[1 2 3 4]\n",
      " [5 2 4 2]\n",
      " [1 2 0 1]]\n",
      "\n",
      " Reshaped array:\n",
      " [[1 2]\n",
      " [3 4]\n",
      " [5 2]\n",
      " [4 2]\n",
      " [1 2]\n",
      " [0 1]]\n"
     ]
    }
   ],
   "source": [
    "import numpy as np\n",
    "a=np.zeros((5,3))\n",
    "b=np.random.random((5,3))\n",
    "c=np.arange(0,10,2)\n",
    "d=np.array([[1,2,3,4],[5,2,4,2],[1,2,0,1]])\n",
    "e=arr.reshape(6,2)\n",
    "print(\"Array with zeros:\",a)\n",
    "print(\"\\n Array with random values:\\n\",b)\n",
    "print(\"\\n Array in step:\\n\",c)\n",
    "print(\"\\n Old array: \\n\",d)\n",
    "print(\"\\n Reshaped array:\\n\",e)"
   ]
  },
  {
   "cell_type": "code",
   "execution_count": 3,
   "id": "5299ff9f",
   "metadata": {},
   "outputs": [
    {
     "name": "stdout",
     "output_type": "stream",
     "text": [
      "Flattened array:\n",
      " [1 2 3 4 5 2 4 2 1 2 0 1]\n"
     ]
    }
   ],
   "source": [
    "import numpy as np\n",
    "flat=arr.flatten()\n",
    "print(\"Flattened array:\\n\",flat)"
   ]
  },
  {
   "cell_type": "code",
   "execution_count": null,
   "id": "50b889cd",
   "metadata": {},
   "outputs": [],
   "source": [
    "print(\"\\n\")"
   ]
  },
  {
   "cell_type": "code",
   "execution_count": 5,
   "id": "a7aa2158",
   "metadata": {},
   "outputs": [
    {
     "name": "stdout",
     "output_type": "stream",
     "text": [
      "\n",
      " array of element type int32\n"
     ]
    }
   ],
   "source": [
    "#print type of element\n",
    "import numpy as np\n",
    "print(\"\\n array of element type\",arr.dtype)"
   ]
  },
  {
   "cell_type": "code",
   "execution_count": 8,
   "id": "eb806047",
   "metadata": {},
   "outputs": [
    {
     "name": "stdout",
     "output_type": "stream",
     "text": [
      "\n",
      " count array element:\n",
      " [[1. 2. 3. 4.]\n",
      " [5. 2. 4. 2.]\n",
      " [1. 2. 0. 1.]]\n",
      "counted array: float32\n"
     ]
    }
   ],
   "source": [
    "#convert integer to float\n",
    "newtype=arr.astype('f')\n",
    "print(\"\\n count array element:\\n\",newtype)\n",
    "print(\"counted array:\",newtype.dtype)"
   ]
  },
  {
   "cell_type": "code",
   "execution_count": 12,
   "id": "588aa5cc",
   "metadata": {},
   "outputs": [
    {
     "name": "stdout",
     "output_type": "stream",
     "text": [
      "\n",
      " size of the array:\n",
      " 3\n"
     ]
    }
   ],
   "source": [
    "#detemine the size of the array\n",
    "size=len(arr)\n",
    "print(\"\\n size of the array:\\n\",size)"
   ]
  },
  {
   "cell_type": "code",
   "execution_count": null,
   "id": "76485349",
   "metadata": {},
   "outputs": [],
   "source": []
  }
 ],
 "metadata": {
  "kernelspec": {
   "display_name": "Python 3 (ipykernel)",
   "language": "python",
   "name": "python3"
  },
  "language_info": {
   "codemirror_mode": {
    "name": "ipython",
    "version": 3
   },
   "file_extension": ".py",
   "mimetype": "text/x-python",
   "name": "python",
   "nbconvert_exporter": "python",
   "pygments_lexer": "ipython3",
   "version": "3.10.9"
  }
 },
 "nbformat": 4,
 "nbformat_minor": 5
}
