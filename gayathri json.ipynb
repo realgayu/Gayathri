{
 "cells": [
  {
   "cell_type": "code",
   "execution_count": 2,
   "id": "b8977ca7",
   "metadata": {},
   "outputs": [],
   "source": [
    "f=open(r\"C:\\Users\\REC\\Desktop\\230901004 PPML\\aravind_word.txt\",\"w\")\n",
    "f.write(\"Wake up early\\n\")\n",
    "f.write(\"Read daily\\n\")\n",
    "f.write(\"Pray to god\\n\")\n",
    "f.close()"
   ]
  },
  {
   "cell_type": "code",
   "execution_count": 4,
   "id": "d520a68d",
   "metadata": {},
   "outputs": [
    {
     "name": "stdout",
     "output_type": "stream",
     "text": [
      "Wake up early\n",
      "\n",
      "Read daily\n",
      "\n",
      "Pray to god\n",
      "\n"
     ]
    }
   ],
   "source": [
    "a=open(r\"C:\\Users\\REC\\Desktop\\230901004 PPML\\aravind_word.txt\",\"r\")\n",
    "print(a.readline())\n",
    "print(a.readline())\n",
    "print(a.readline())\n",
    "a.close()"
   ]
  },
  {
   "cell_type": "code",
   "execution_count": 5,
   "id": "74b9aecb",
   "metadata": {},
   "outputs": [
    {
     "name": "stdout",
     "output_type": "stream",
     "text": [
      "Wake up early\n",
      "Read daily\n",
      "Pray to god\n",
      "Help others\n",
      "Be smart\n",
      "\n"
     ]
    }
   ],
   "source": [
    "b=open(r\"C:\\Users\\REC\\Desktop\\230901004 PPML\\aravind_word.txt\",\"a\")\n",
    "b.write(\"Help others\\n\")\n",
    "b.write(\"Be smart\\n\")\n",
    "b.close()\n",
    "c=open(r\"C:\\Users\\REC\\Desktop\\230901004 PPML\\aravind_word.txt\",\"r\")\n",
    "print(c.read())\n",
    "c.close()\n"
   ]
  },
  {
   "cell_type": "code",
   "execution_count": 6,
   "id": "e149a8f4",
   "metadata": {},
   "outputs": [
    {
     "name": "stdout",
     "output_type": "stream",
     "text": [
      "['Wake up early\\n', 'Read daily\\n', 'Pray to god\\n', 'Help others\\n', 'Be smart\\n']\n"
     ]
    }
   ],
   "source": [
    "with open(r\"C:\\Users\\REC\\Desktop\\230901004 PPML\\aravind_word.txt\",\"r\") as file:\n",
    "    lines=file.readlines()\n",
    "    print(lines)"
   ]
  },
  {
   "cell_type": "code",
   "execution_count": 7,
   "id": "57aa9cf1",
   "metadata": {},
   "outputs": [
    {
     "name": "stdout",
     "output_type": "stream",
     "text": [
      "London\n"
     ]
    }
   ],
   "source": [
    "import json\n",
    "x='{\"Name\":\"sai\",\"Age\":20,\"City\":\"London\"}'\n",
    "y=json.loads(x)\n",
    "print(y[\"City\"])"
   ]
  },
  {
   "cell_type": "code",
   "execution_count": 8,
   "id": "6c13cb19",
   "metadata": {},
   "outputs": [
    {
     "name": "stdout",
     "output_type": "stream",
     "text": [
      "{'Name': 'sai', 'Age': 20, 'City': 'London'}\n"
     ]
    }
   ],
   "source": [
    "z=json.dumps(x)\n",
    "print(y)"
   ]
  }
 ],
 "metadata": {
  "kernelspec": {
   "display_name": "Python 3 (ipykernel)",
   "language": "python",
   "name": "python3"
  },
  "language_info": {
   "codemirror_mode": {
    "name": "ipython",
    "version": 3
   },
   "file_extension": ".py",
   "mimetype": "text/x-python",
   "name": "python",
   "nbconvert_exporter": "python",
   "pygments_lexer": "ipython3",
   "version": "3.11.3"
  }
 },
 "nbformat": 4,
 "nbformat_minor": 5
}
