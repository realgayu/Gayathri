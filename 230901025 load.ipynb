{
 "cells": [
  {
   "cell_type": "code",
   "execution_count": 1,
   "id": "ee503b98",
   "metadata": {},
   "outputs": [
    {
     "name": "stdout",
     "output_type": "stream",
     "text": [
      "    Emp ID Name Prefix First Name  Last Name Gender  Salary\n",
      "0   677509        Drs.       Lois     Walker      F  168251\n",
      "1   940761         Ms.     Brenda   Robinson      F   51063\n",
      "2   428945         Dr.        Joe   Robinson      M   50155\n",
      "3   408351        Drs.      Diane      Evans      F  180294\n",
      "4   193819         Mr.   Benjamin    Russell      M  117642\n",
      "5   499687         Mr.    Patrick     Bailey      M   72305\n",
      "6   539712         Ms.      Nancy      Baker      F   98189\n",
      "7   380086        Mrs.      Carol     Murphy      F   60918\n",
      "8   477616        Hon.    Frances      Young      F  121587\n",
      "9   162402        Hon.      Diana   Peterson      F   43010\n",
      "10  231469         Mr.      Ralph     Flores      M  118457\n",
      "11  153989       Prof.       Jack  Alexander      M   82965\n",
      "12  386158        Mrs.    Melissa       King      F  166892\n",
      "13  301576        Hon.      Wayne     Watson      M   92758\n",
      "14  441771        Mrs.     Cheryl      Scott      F   92220\n",
      "15  528509        Hon.      Paula       Diaz      F  152654\n",
      "16  912990         Mr.     Joshua    Stewart      M  184896\n",
      "17  214352         Ms.    Theresa        Lee      F  197537\n",
      "18  890290        Hon.      Julia      Scott      F  141518\n",
      "19  622406         Mr.     Thomas      Lewis      M   73862\n",
      "20  979607         Ms.      Carol    Edwards      F   93967\n",
      "21  969580       Prof.    Matthew     Turner      M   52237\n",
      "22  426038        Hon.       Joan    Stewart      F  111673\n",
      "23  388642        Mrs.       Ruby     Rogers      F  160623\n",
      "24  560455         Ms.    Carolyn      Hayes      F   42005\n",
      "25  477253        Mrs.       Anne    Russell      F  103160\n",
      "26  263480        Hon.     Daniel     Cooper      M  153790\n",
      "27  683826         Mr.      Roger    Roberts      M  129625\n",
      "28  474599        Drs.      Maria     Walker      F   48944\n"
     ]
    }
   ],
   "source": [
    "#1. Read and describe the excel file data\n",
    "import pandas as pd\n",
    "d=pd.read_excel(\"emp230901004.xlsx\")\n",
    "print(d)"
   ]
  },
  {
   "cell_type": "code",
   "execution_count": 2,
   "id": "02b17f2b",
   "metadata": {},
   "outputs": [
    {
     "name": "stdout",
     "output_type": "stream",
     "text": [
      "Columns:\n",
      " Index(['Emp ID', 'Name Prefix', 'First Name', 'Last Name', 'Gender', 'Salary'], dtype='object')\n",
      "(29, 6)\n"
     ]
    }
   ],
   "source": [
    "#2. Through dataframe get the detais of column heading and shape\n",
    "df=pd.DataFrame(d)\n",
    "print(\"Columns:\\n\",df.columns)\n",
    "print(df.shape)"
   ]
  },
  {
   "cell_type": "code",
   "execution_count": 3,
   "id": "2fc670bd",
   "metadata": {},
   "outputs": [
    {
     "name": "stdout",
     "output_type": "stream",
     "text": [
      "First name 0         Lois\n",
      "1       Brenda\n",
      "2          Joe\n",
      "3        Diane\n",
      "4     Benjamin\n",
      "5      Patrick\n",
      "6        Nancy\n",
      "7        Carol\n",
      "8      Frances\n",
      "9        Diana\n",
      "10       Ralph\n",
      "11        Jack\n",
      "12     Melissa\n",
      "13       Wayne\n",
      "14      Cheryl\n",
      "15       Paula\n",
      "16      Joshua\n",
      "17     Theresa\n",
      "18       Julia\n",
      "19      Thomas\n",
      "20       Carol\n",
      "21     Matthew\n",
      "22        Joan\n",
      "23        Ruby\n",
      "24     Carolyn\n",
      "25        Anne\n",
      "26      Daniel\n",
      "27       Roger\n",
      "28       Maria\n",
      "Name: First Name, dtype: object\n"
     ]
    }
   ],
   "source": [
    "#3. Printing a particular column\n",
    "print(\"First name\",df['First Name'])"
   ]
  },
  {
   "cell_type": "code",
   "execution_count": 4,
   "id": "e0882f58",
   "metadata": {},
   "outputs": [
    {
     "name": "stdout",
     "output_type": "stream",
     "text": [
      "   Emp ID Name Prefix First Name Last Name Gender  Salary\n",
      "1  940761         Ms.     Brenda  Robinson      F   51063\n",
      "2  428945         Dr.        Joe  Robinson      M   50155\n",
      "3  408351        Drs.      Diane     Evans      F  180294\n",
      "4  193819         Mr.   Benjamin   Russell      M  117642\n"
     ]
    }
   ],
   "source": [
    "#4. Slicing\n",
    "print(df[1:5])"
   ]
  },
  {
   "cell_type": "code",
   "execution_count": 5,
   "id": "73cfe581",
   "metadata": {},
   "outputs": [
    {
     "name": "stdout",
     "output_type": "stream",
     "text": [
      "Particular person details\n",
      " Emp ID           162402\n",
      "Name Prefix        Hon.\n",
      "First Name        Diana\n",
      "Last Name      Peterson\n",
      "Gender                F\n",
      "Salary            43010\n",
      "Name: 9, dtype: object\n"
     ]
    }
   ],
   "source": [
    "#4. printing a particular row\n",
    "print(\"Particular person details\\n\",df.loc[9])"
   ]
  },
  {
   "cell_type": "code",
   "execution_count": 6,
   "id": "a9d5d384",
   "metadata": {},
   "outputs": [
    {
     "name": "stdout",
     "output_type": "stream",
     "text": [
      "   Emp ID Name Prefix First Name Last Name Gender  Salary\n",
      "9  162402        Hon.      Diana  Peterson      F   43010\n"
     ]
    }
   ],
   "source": [
    "#5. getting info based on a condition\n",
    "print(d.loc[d[\"Salary\"]==43010])"
   ]
  },
  {
   "cell_type": "code",
   "execution_count": 7,
   "id": "a9eac9cc",
   "metadata": {},
   "outputs": [
    {
     "name": "stdout",
     "output_type": "stream",
     "text": [
      "0     168.419419\n",
      "1      51.114114\n",
      "2      50.205205\n",
      "3     180.474474\n",
      "4     117.759760\n",
      "5      72.377377\n",
      "6      98.287287\n",
      "7      60.978979\n",
      "8     121.708709\n",
      "9      43.053053\n",
      "10    118.575576\n",
      "11     83.048048\n",
      "12    167.059059\n",
      "13     92.850851\n",
      "14     92.312312\n",
      "15    152.806807\n",
      "16    185.081081\n",
      "17    197.734735\n",
      "18    141.659660\n",
      "19     73.935936\n",
      "20     94.061061\n",
      "21     52.289289\n",
      "22    111.784785\n",
      "23    160.783784\n",
      "24     42.047047\n",
      "25    103.263263\n",
      "26    153.943944\n",
      "27    129.754755\n",
      "28     48.992993\n",
      "Name: Salary, dtype: float64\n"
     ]
    }
   ],
   "source": [
    "#6. editing a column\n",
    "db=d['Salary']/999\n",
    "print(db)"
   ]
  },
  {
   "cell_type": "code",
   "execution_count": null,
   "id": "fc84cbc3",
   "metadata": {},
   "outputs": [],
   "source": []
  }
 ],
 "metadata": {
  "kernelspec": {
   "display_name": "Python 3 (ipykernel)",
   "language": "python",
   "name": "python3"
  },
  "language_info": {
   "codemirror_mode": {
    "name": "ipython",
    "version": 3
   },
   "file_extension": ".py",
   "mimetype": "text/x-python",
   "name": "python",
   "nbconvert_exporter": "python",
   "pygments_lexer": "ipython3",
   "version": "3.11.5"
  }
 },
 "nbformat": 4,
 "nbformat_minor": 5
}
