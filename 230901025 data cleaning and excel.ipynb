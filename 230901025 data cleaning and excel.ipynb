{
 "cells": [
  {
   "cell_type": "code",
   "execution_count": 59,
   "id": "4560b4b0",
   "metadata": {},
   "outputs": [
    {
     "name": "stdout",
     "output_type": "stream",
     "text": [
      "   Roll no.           Name  LICA   DLC  EM 2   T&D\n",
      "0         1       Abhinith  36.0  41.0  63.0   NaN\n",
      "1         2         Akilan  23.0   NaN  56.0  65.0\n",
      "2         3      Anulaxxmi  23.0   NaN  53.0  33.0\n",
      "3         4  Aravind Kumar   NaN  65.0   NaN  32.0\n",
      "4         5          Arjun  34.0  65.0  76.0   NaN\n",
      "5         6         Ashwin  25.0   NaN  23.0  54.0\n",
      "6         7           Arya   NaN  57.0  75.0  23.0\n",
      "7         8           Babu  75.0  54.0   NaN  43.0\n",
      "8         9  Balaganapathy  43.0   NaN  65.0  43.0\n",
      "9        10    Balamurugan  54.0  64.0   NaN  75.0\n"
     ]
    }
   ],
   "source": [
    "#Readng existing excel file\n",
    "import pandas as pd\n",
    "df=pd.read_excel(\"marksheet1.xlsx\")\n",
    "print(df)"
   ]
  },
  {
   "cell_type": "code",
   "execution_count": 76,
   "id": "38075d67",
   "metadata": {},
   "outputs": [
    {
     "name": "stdout",
     "output_type": "stream",
     "text": [
      "   Roll no.  ...   T&D\n",
      "0         1  ...   NaN\n",
      "1         2  ...  65.0\n",
      "2         3  ...  33.0\n",
      "3         4  ...  32.0\n",
      "4         5  ...   NaN\n",
      "5         6  ...  54.0\n",
      "6         7  ...  23.0\n",
      "7         8  ...  43.0\n",
      "8         9  ...  43.0\n",
      "9        10  ...  75.0\n",
      "\n",
      "[10 rows x 6 columns]\n"
     ]
    }
   ],
   "source": [
    "#displaying specific number of columns\n",
    "pd.set_option('display.max_column',2)\n",
    "a=pd.read_excel(\"marksheet1.xlsx\")\n",
    "print(a)\n",
    "a.to_excel(\"marksheet.xlsx\")"
   ]
  },
  {
   "cell_type": "code",
   "execution_count": 60,
   "id": "6b34652b",
   "metadata": {},
   "outputs": [
    {
     "name": "stdout",
     "output_type": "stream",
     "text": [
      "   Roll no.           Name  LICA   DLC  EM 2   T&D\n",
      "0         1       Abhinith  36.0  41.0  63.0   NaN\n",
      "1         2         Akilan  23.0  41.0  56.0  65.0\n",
      "2         3      Anulaxxmi  23.0  41.0  53.0  33.0\n",
      "3         4  Aravind Kumar  23.0  65.0  53.0  32.0\n",
      "4         5          Arjun  34.0  65.0  76.0  32.0\n",
      "5         6         Ashwin  25.0  65.0  23.0  54.0\n",
      "6         7           Arya  25.0  57.0  75.0  23.0\n",
      "7         8           Babu  75.0  54.0  75.0  43.0\n",
      "8         9  Balaganapathy  43.0  54.0  65.0  43.0\n",
      "9        10    Balamurugan  54.0  64.0  65.0  75.0\n",
      "\n",
      " Updated line\n"
     ]
    }
   ],
   "source": [
    "#Replacing NaN values with previous values\n",
    "b=pd.read_excel(\"marksheet1.xlsx\")\n",
    "k=b.fillna(method='pad')\n",
    "print(k)\n",
    "print(\"\\n Updated line\")\n",
    "k.to_excel(\"marksheet.xlsx\")"
   ]
  },
  {
   "cell_type": "code",
   "execution_count": 62,
   "id": "0af5f558",
   "metadata": {},
   "outputs": [
    {
     "name": "stdout",
     "output_type": "stream",
     "text": [
      "   Roll no.           Name  LICA  EM 2   T&D\n",
      "0         1       Abhinith  36.0  63.0   NaN\n",
      "1         2         Akilan  23.0  56.0  65.0\n",
      "2         3      Anulaxxmi  23.0  53.0  33.0\n",
      "3         4  Aravind Kumar   NaN   NaN  32.0\n",
      "4         5          Arjun  34.0  76.0   NaN\n",
      "5         6         Ashwin  25.0  23.0  54.0\n",
      "6         7           Arya   NaN  75.0  23.0\n",
      "7         8           Babu  75.0   NaN  43.0\n",
      "8         9  Balaganapathy  43.0  65.0  43.0\n",
      "9        10    Balamurugan  54.0   NaN  75.0\n"
     ]
    }
   ],
   "source": [
    "df.drop(['DLC'],axis=1,inplace=True)\n",
    "print(df)\n",
    "k.to_excel(\"marksheet.xlsx\")"
   ]
  },
  {
   "cell_type": "code",
   "execution_count": 64,
   "id": "20ac1c6f",
   "metadata": {},
   "outputs": [
    {
     "name": "stdout",
     "output_type": "stream",
     "text": [
      "\n",
      "Drop NaN row:\n",
      "\n",
      "\n",
      "   Roll no.           Name  LICA   DLC  EM 2   T&D\n",
      "0         1       Abhinith  36.0  41.0  63.0   NaN\n",
      "1         2         Akilan  23.0   NaN  56.0  65.0\n",
      "2         3      Anulaxxmi  23.0   NaN  53.0  33.0\n",
      "3         4  Aravind Kumar   NaN  65.0   NaN  32.0\n",
      "4         5          Arjun  34.0  65.0  76.0   NaN\n",
      "5         6         Ashwin  25.0   NaN  23.0  54.0\n",
      "6         7           Arya   NaN  57.0  75.0  23.0\n",
      "7         8           Babu  75.0  54.0   NaN  43.0\n",
      "8         9  Balaganapathy  43.0   NaN  65.0  43.0\n",
      "9        10    Balamurugan  54.0  64.0   NaN  75.0\n",
      "Empty DataFrame\n",
      "Columns: [Roll no., Name, LICA, DLC, EM 2, T&D]\n",
      "Index: []\n"
     ]
    }
   ],
   "source": [
    "print(\"\\nDrop NaN row:\\n\\n\")\n",
    "df=pd.read_excel(\"marksheet1.xlsx\")\n",
    "print(df)\n",
    "x=df.dropna()\n",
    "print(x)"
   ]
  },
  {
   "cell_type": "code",
   "execution_count": 69,
   "id": "2bd1ab34",
   "metadata": {},
   "outputs": [
    {
     "name": "stdout",
     "output_type": "stream",
     "text": [
      "\n",
      "Replace values:\n",
      "\n",
      "\n",
      "   Unnamed: 0  Roll no.           Name  LICA  DLC  EM 2   T&D\n",
      "0           0         1       Abhinith    36   41    63   NaN\n",
      "1           1         2         Akilan    23   41    56  65.0\n",
      "2           2         3      Anulaxxmi    23   41    53  33.0\n",
      "3           3         4  Aravind Kumar    23   65    53  32.0\n",
      "4           4         5          Arjun    34   65    76  32.0\n",
      "5           5         6         Ashwin    25   65    23  54.0\n",
      "6           6         7           Arya    25   57    75  23.0\n",
      "7           7         8           Babu    75   54    75  43.0\n",
      "8           8         9  Balaganapathy    43   54    65  43.0\n",
      "9           9        10    Balamurugan    54   64    65  75.0\n",
      "\n",
      "    Unnamed: 0  Roll no.           Name  LICA  DLC  EM 2   T&D\n",
      "0           0         1       Abhinith    36   41    63   NaN\n",
      "1           1         2         Akilan    23   41    56  39.0\n",
      "2           2         3      Anulaxxmi    23   41    53  33.0\n",
      "3           3         4  Aravind Kumar    23   39    53  32.0\n",
      "4           4         5          Arjun    34   39    76  32.0\n",
      "5           5         6         Ashwin    25   39    23  54.0\n",
      "6           6         7           Arya    25   57    75  23.0\n",
      "7           7         8           Babu    75   54    75  43.0\n",
      "8           8         9  Balaganapathy    43   54    39  43.0\n",
      "9           9        10    Balamurugan    54   64    39  75.0\n"
     ]
    }
   ],
   "source": [
    "print(\"\\nReplace values:\\n\\n\")\n",
    "n=pd.read_excel(\"marksheet.xlsx\")\n",
    "print(n)\n",
    "y=n.replace({65:39})\n",
    "print(\"\\n\",y)\n",
    "y.to_excel(\"marksheet.xlsx\")"
   ]
  },
  {
   "cell_type": "code",
   "execution_count": 75,
   "id": "c1fd3eab",
   "metadata": {},
   "outputs": [
    {
     "name": "stdout",
     "output_type": "stream",
     "text": [
      "   Unnamed: 0.1  Unnamed: 0  Roll no.           Name  LICA  DLC  EM 2   T&D\n",
      "0             0           0         1       Abhinith    36   41    63   NaN\n",
      "1             1           1         2         Akilan    23   41    56  39.0\n",
      "2             2           2         3      Anulaxxmi    23   41    53  33.0\n",
      "3             3           3         4  Aravind Kumar    23   39    53  32.0\n",
      "4             4           4         5          Arjun    34   39    76  32.0\n",
      "5             5           5         6         Ashwin    25   39    23  54.0\n",
      "6             6           6         7           Arya    25   57    75  23.0\n",
      "7             7           7         8           Babu    75   54    75  43.0\n",
      "8             8           8         9  Balaganapathy    43   54    39  43.0\n",
      "9             9           9        10    Balamurugan    54   64    39  75.0\n",
      "\n",
      " Extract using isin() function:\n",
      "\n",
      "   Unnamed: 0.1  Unnamed: 0  Roll no.           Name  LICA  DLC  EM 2   T&D\n",
      "1             1           1         2         Akilan    23   41    56  39.0\n",
      "2             2           2         3      Anulaxxmi    23   41    53  33.0\n",
      "3             3           3         4  Aravind Kumar    23   39    53  32.0\n"
     ]
    }
   ],
   "source": [
    "df=pd.read_excel(\"marksheet.xlsx\")\n",
    "print(df)\n",
    "print(\"\\n Extract using isin() function:\\n\")\n",
    "new=df['LICA'].isin([23])\n",
    "print(df[new])"
   ]
  },
  {
   "cell_type": "code",
   "execution_count": null,
   "id": "58750625",
   "metadata": {},
   "outputs": [],
   "source": []
  }
 ],
 "metadata": {
  "kernelspec": {
   "display_name": "Python 3 (ipykernel)",
   "language": "python",
   "name": "python3"
  },
  "language_info": {
   "codemirror_mode": {
    "name": "ipython",
    "version": 3
   },
   "file_extension": ".py",
   "mimetype": "text/x-python",
   "name": "python",
   "nbconvert_exporter": "python",
   "pygments_lexer": "ipython3",
   "version": "3.11.5"
  }
 },
 "nbformat": 4,
 "nbformat_minor": 5
}
