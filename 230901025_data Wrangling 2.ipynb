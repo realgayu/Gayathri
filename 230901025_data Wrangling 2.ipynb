{
 "cells": [
  {
   "cell_type": "code",
   "execution_count": 61,
   "id": "8b9108dc-9582-41e4-8228-cb1dd87a8f2c",
   "metadata": {},
   "outputs": [
    {
     "name": "stdout",
     "output_type": "stream",
     "text": [
      "Original DataFrame:\n",
      "         Name  Age Gender Marks\n",
      "0        Sai   20      M    87\n",
      "1    Yuvasri   18      F   NaN\n",
      "2  Poovannan   19      M    45\n",
      "3  Sabharish   20      M   NaN\n"
     ]
    }
   ],
   "source": [
    "#Creating a DataFrame\n",
    "import pandas as pd\n",
    "data={'Name':['Sai','Yuvasri','Poovannan','Sabharish'],'Age':[20,18,19,20],'Gender':['M','F','M','M'],'Marks':[87,'NaN',45,'NaN']}\n",
    "df=pd.DataFrame(data)\n",
    "print(\"Original DataFrame:\\n\",df)"
   ]
  },
  {
   "cell_type": "code",
   "execution_count": 51,
   "id": "c9f23763-99bb-4a35-8fab-f1be3da1e20b",
   "metadata": {},
   "outputs": [
    {
     "name": "stdout",
     "output_type": "stream",
     "text": [
      "\n",
      "Replacing NaN with average marks:\n",
      "         Name  Age Gender  Marks\n",
      "0        Sai   20      M   87.0\n",
      "1    Yuvasri   18      F   87.0\n",
      "2  Poovannan   19      M   45.0\n",
      "3  Sabharish   20      M   87.0\n"
     ]
    },
    {
     "name": "stderr",
     "output_type": "stream",
     "text": [
      "C:\\Users\\dell\\AppData\\Local\\Temp\\ipykernel_9676\\1765041495.py:7: FutureWarning: Downcasting behavior in `replace` is deprecated and will be removed in a future version. To retain the old behavior, explicitly call `result.infer_objects(copy=False)`. To opt-in to the future behavior, set `pd.set_option('future.no_silent_downcasting', True)`\n",
      "  df=df.replace(to_replace=\"NaN\",value=avg)\n"
     ]
    }
   ],
   "source": [
    "#Replacing NaN values by average values\n",
    "c=avg=0\n",
    "for ele in df['Marks']:\n",
    "    if str(ele).isnumeric():\n",
    "        c+=1\n",
    "        avg+=ele\n",
    "        avg/=c\n",
    "        df=df.replace(to_replace=\"NaN\",value=avg)\n",
    "print(\"\\nReplacing NaN with average marks:\\n\",df)"
   ]
  },
  {
   "cell_type": "code",
   "execution_count": 53,
   "id": "c187f2fc-3a6f-48c6-bac9-3cf6a19d1e1d",
   "metadata": {},
   "outputs": [
    {
     "name": "stdout",
     "output_type": "stream",
     "text": [
      "\n",
      "Filtering and Dropping func:\n",
      "         Name Gender  Marks\n",
      "0        Sai      M   87.0\n",
      "1    Yuvasri      F   87.0\n",
      "3  Sabharish      M   87.0\n"
     ]
    }
   ],
   "source": [
    "#Filter top scoring students\n",
    "df=df[df['Marks']>=75]\n",
    "#Remove age row\n",
    "df=df.drop(['Age'],axis=1)\n",
    "print(\"\\nFiltering and Dropping func:\\n\",df)"
   ]
  },
  {
   "cell_type": "code",
   "execution_count": 59,
   "id": "f35e11ae-b98e-4c82-9c31-8f2c2ae7a1ae",
   "metadata": {},
   "outputs": [
    {
     "name": "stdout",
     "output_type": "stream",
     "text": [
      "\n",
      "Original DataFrame 1:\n",
      "   Name subject_id  Marks_scored\n",
      "1  Sai       sub1            98\n",
      "2  Sub       sub2            95\n",
      "\n",
      "Original DataFrame 2:\n",
      "   Name subject_id  Marks_scored\n",
      "3  Sam       sub3            86\n",
      "4  Poo       sub4            95\n",
      "\n",
      "Merged DataFrame\n",
      "   Name subject_id  Marks_scored\n",
      "1  Sai       sub1            98\n",
      "2  Sub       sub2            95\n",
      "3  Sam       sub3            86\n",
      "4  Poo       sub4            95\n"
     ]
    }
   ],
   "source": [
    "one = pd.DataFrame({'Name':['Sai','Sub'],'subject_id':['sub1','sub2'],'Marks_scored':[98,95]},index=[1,2])\n",
    "two=pd.DataFrame({'Name':['Sam','Poo'],'subject_id':['sub3','sub4'],'Marks_scored':[86,95]},index=[3,4])\n",
    "print(\"\\nOriginal DataFrame 1:\\n\",one)\n",
    "print(\"\\nOriginal DataFrame 2:\\n\",two)\n",
    "print(\"\\nMerged DataFrame\\n\",pd.concat([one,two]))"
   ]
  }
 ],
 "metadata": {
  "kernelspec": {
   "display_name": "Python [conda env:base] *",
   "language": "python",
   "name": "conda-base-py"
  },
  "language_info": {
   "codemirror_mode": {
    "name": "ipython",
    "version": 3
   },
   "file_extension": ".py",
   "mimetype": "text/x-python",
   "name": "python",
   "nbconvert_exporter": "python",
   "pygments_lexer": "ipython3",
   "version": "3.12.7"
  }
 },
 "nbformat": 4,
 "nbformat_minor": 5
}
